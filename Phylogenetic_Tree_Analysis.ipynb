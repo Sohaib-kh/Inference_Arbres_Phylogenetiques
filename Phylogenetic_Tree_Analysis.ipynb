{
  "nbformat": 4,
  "nbformat_minor": 0,
  "metadata": {
    "colab": {
      "provenance": [],
      "authorship_tag": "ABX9TyPm7ajHErH2AYe1e0BQkfbn",
      "include_colab_link": true
    },
    "kernelspec": {
      "name": "python3",
      "display_name": "Python 3"
    },
    "language_info": {
      "name": "python"
    }
  },
  "cells": [
    {
      "cell_type": "markdown",
      "metadata": {
        "id": "view-in-github",
        "colab_type": "text"
      },
      "source": [
        "<a href=\"https://colab.research.google.com/github/Sohaib-kh/Inference_Arbres_Phylogenetiques/blob/main/Phylogenetic_Tree_Analysis.ipynb\" target=\"_parent\"><img src=\"https://colab.research.google.com/assets/colab-badge.svg\" alt=\"Open In Colab\"/></a>"
      ]
    },
    {
      "cell_type": "markdown",
      "source": [
        "Installation de la bibliothèque BioPython :"
      ],
      "metadata": {
        "id": "h214d7AUBSQr"
      }
    },
    {
      "cell_type": "code",
      "execution_count": 2,
      "metadata": {
        "colab": {
          "base_uri": "https://localhost:8080/"
        },
        "id": "Cy4Z1vGd98mf",
        "outputId": "354e24d9-52fa-429e-9fff-9c6ad4695dd9"
      },
      "outputs": [
        {
          "output_type": "stream",
          "name": "stdout",
          "text": [
            "Collecting BioPython\n",
            "  Downloading biopython-1.84-cp310-cp310-manylinux_2_17_x86_64.manylinux2014_x86_64.whl.metadata (12 kB)\n",
            "Requirement already satisfied: numpy in /usr/local/lib/python3.10/dist-packages (from BioPython) (1.26.4)\n",
            "Downloading biopython-1.84-cp310-cp310-manylinux_2_17_x86_64.manylinux2014_x86_64.whl (3.2 MB)\n",
            "\u001b[2K   \u001b[90m━━━━━━━━━━━━━━━━━━━━━━━━━━━━━━━━━━━━━━━━\u001b[0m \u001b[32m3.2/3.2 MB\u001b[0m \u001b[31m27.7 MB/s\u001b[0m eta \u001b[36m0:00:00\u001b[0m\n",
            "\u001b[?25hInstalling collected packages: BioPython\n",
            "Successfully installed BioPython-1.84\n"
          ]
        }
      ],
      "source": [
        "!pip install BioPython"
      ]
    },
    {
      "cell_type": "markdown",
      "source": [
        "Importation du fichier d'alignement :"
      ],
      "metadata": {
        "id": "lQdzmEoFBj3O"
      }
    },
    {
      "cell_type": "code",
      "source": [
        "from google.colab import files\n",
        "uploaded = files.upload()"
      ],
      "metadata": {
        "colab": {
          "base_uri": "https://localhost:8080/",
          "height": 73
        },
        "id": "uxUQQAQS-2ux",
        "outputId": "39342feb-9213-49cc-898c-8a5657b90ebd"
      },
      "execution_count": 3,
      "outputs": [
        {
          "output_type": "display_data",
          "data": {
            "text/plain": [
              "<IPython.core.display.HTML object>"
            ],
            "text/html": [
              "\n",
              "     <input type=\"file\" id=\"files-d5aceaee-b0af-4d48-aad2-c2747712bdf2\" name=\"files[]\" multiple disabled\n",
              "        style=\"border:none\" />\n",
              "     <output id=\"result-d5aceaee-b0af-4d48-aad2-c2747712bdf2\">\n",
              "      Upload widget is only available when the cell has been executed in the\n",
              "      current browser session. Please rerun this cell to enable.\n",
              "      </output>\n",
              "      <script>// Copyright 2017 Google LLC\n",
              "//\n",
              "// Licensed under the Apache License, Version 2.0 (the \"License\");\n",
              "// you may not use this file except in compliance with the License.\n",
              "// You may obtain a copy of the License at\n",
              "//\n",
              "//      http://www.apache.org/licenses/LICENSE-2.0\n",
              "//\n",
              "// Unless required by applicable law or agreed to in writing, software\n",
              "// distributed under the License is distributed on an \"AS IS\" BASIS,\n",
              "// WITHOUT WARRANTIES OR CONDITIONS OF ANY KIND, either express or implied.\n",
              "// See the License for the specific language governing permissions and\n",
              "// limitations under the License.\n",
              "\n",
              "/**\n",
              " * @fileoverview Helpers for google.colab Python module.\n",
              " */\n",
              "(function(scope) {\n",
              "function span(text, styleAttributes = {}) {\n",
              "  const element = document.createElement('span');\n",
              "  element.textContent = text;\n",
              "  for (const key of Object.keys(styleAttributes)) {\n",
              "    element.style[key] = styleAttributes[key];\n",
              "  }\n",
              "  return element;\n",
              "}\n",
              "\n",
              "// Max number of bytes which will be uploaded at a time.\n",
              "const MAX_PAYLOAD_SIZE = 100 * 1024;\n",
              "\n",
              "function _uploadFiles(inputId, outputId) {\n",
              "  const steps = uploadFilesStep(inputId, outputId);\n",
              "  const outputElement = document.getElementById(outputId);\n",
              "  // Cache steps on the outputElement to make it available for the next call\n",
              "  // to uploadFilesContinue from Python.\n",
              "  outputElement.steps = steps;\n",
              "\n",
              "  return _uploadFilesContinue(outputId);\n",
              "}\n",
              "\n",
              "// This is roughly an async generator (not supported in the browser yet),\n",
              "// where there are multiple asynchronous steps and the Python side is going\n",
              "// to poll for completion of each step.\n",
              "// This uses a Promise to block the python side on completion of each step,\n",
              "// then passes the result of the previous step as the input to the next step.\n",
              "function _uploadFilesContinue(outputId) {\n",
              "  const outputElement = document.getElementById(outputId);\n",
              "  const steps = outputElement.steps;\n",
              "\n",
              "  const next = steps.next(outputElement.lastPromiseValue);\n",
              "  return Promise.resolve(next.value.promise).then((value) => {\n",
              "    // Cache the last promise value to make it available to the next\n",
              "    // step of the generator.\n",
              "    outputElement.lastPromiseValue = value;\n",
              "    return next.value.response;\n",
              "  });\n",
              "}\n",
              "\n",
              "/**\n",
              " * Generator function which is called between each async step of the upload\n",
              " * process.\n",
              " * @param {string} inputId Element ID of the input file picker element.\n",
              " * @param {string} outputId Element ID of the output display.\n",
              " * @return {!Iterable<!Object>} Iterable of next steps.\n",
              " */\n",
              "function* uploadFilesStep(inputId, outputId) {\n",
              "  const inputElement = document.getElementById(inputId);\n",
              "  inputElement.disabled = false;\n",
              "\n",
              "  const outputElement = document.getElementById(outputId);\n",
              "  outputElement.innerHTML = '';\n",
              "\n",
              "  const pickedPromise = new Promise((resolve) => {\n",
              "    inputElement.addEventListener('change', (e) => {\n",
              "      resolve(e.target.files);\n",
              "    });\n",
              "  });\n",
              "\n",
              "  const cancel = document.createElement('button');\n",
              "  inputElement.parentElement.appendChild(cancel);\n",
              "  cancel.textContent = 'Cancel upload';\n",
              "  const cancelPromise = new Promise((resolve) => {\n",
              "    cancel.onclick = () => {\n",
              "      resolve(null);\n",
              "    };\n",
              "  });\n",
              "\n",
              "  // Wait for the user to pick the files.\n",
              "  const files = yield {\n",
              "    promise: Promise.race([pickedPromise, cancelPromise]),\n",
              "    response: {\n",
              "      action: 'starting',\n",
              "    }\n",
              "  };\n",
              "\n",
              "  cancel.remove();\n",
              "\n",
              "  // Disable the input element since further picks are not allowed.\n",
              "  inputElement.disabled = true;\n",
              "\n",
              "  if (!files) {\n",
              "    return {\n",
              "      response: {\n",
              "        action: 'complete',\n",
              "      }\n",
              "    };\n",
              "  }\n",
              "\n",
              "  for (const file of files) {\n",
              "    const li = document.createElement('li');\n",
              "    li.append(span(file.name, {fontWeight: 'bold'}));\n",
              "    li.append(span(\n",
              "        `(${file.type || 'n/a'}) - ${file.size} bytes, ` +\n",
              "        `last modified: ${\n",
              "            file.lastModifiedDate ? file.lastModifiedDate.toLocaleDateString() :\n",
              "                                    'n/a'} - `));\n",
              "    const percent = span('0% done');\n",
              "    li.appendChild(percent);\n",
              "\n",
              "    outputElement.appendChild(li);\n",
              "\n",
              "    const fileDataPromise = new Promise((resolve) => {\n",
              "      const reader = new FileReader();\n",
              "      reader.onload = (e) => {\n",
              "        resolve(e.target.result);\n",
              "      };\n",
              "      reader.readAsArrayBuffer(file);\n",
              "    });\n",
              "    // Wait for the data to be ready.\n",
              "    let fileData = yield {\n",
              "      promise: fileDataPromise,\n",
              "      response: {\n",
              "        action: 'continue',\n",
              "      }\n",
              "    };\n",
              "\n",
              "    // Use a chunked sending to avoid message size limits. See b/62115660.\n",
              "    let position = 0;\n",
              "    do {\n",
              "      const length = Math.min(fileData.byteLength - position, MAX_PAYLOAD_SIZE);\n",
              "      const chunk = new Uint8Array(fileData, position, length);\n",
              "      position += length;\n",
              "\n",
              "      const base64 = btoa(String.fromCharCode.apply(null, chunk));\n",
              "      yield {\n",
              "        response: {\n",
              "          action: 'append',\n",
              "          file: file.name,\n",
              "          data: base64,\n",
              "        },\n",
              "      };\n",
              "\n",
              "      let percentDone = fileData.byteLength === 0 ?\n",
              "          100 :\n",
              "          Math.round((position / fileData.byteLength) * 100);\n",
              "      percent.textContent = `${percentDone}% done`;\n",
              "\n",
              "    } while (position < fileData.byteLength);\n",
              "  }\n",
              "\n",
              "  // All done.\n",
              "  yield {\n",
              "    response: {\n",
              "      action: 'complete',\n",
              "    }\n",
              "  };\n",
              "}\n",
              "\n",
              "scope.google = scope.google || {};\n",
              "scope.google.colab = scope.google.colab || {};\n",
              "scope.google.colab._files = {\n",
              "  _uploadFiles,\n",
              "  _uploadFilesContinue,\n",
              "};\n",
              "})(self);\n",
              "</script> "
            ]
          },
          "metadata": {}
        },
        {
          "output_type": "stream",
          "name": "stdout",
          "text": [
            "Saving Aligned_Sequences.aln-clustal_num to Aligned_Sequences.aln-clustal_num\n"
          ]
        }
      ]
    },
    {
      "cell_type": "markdown",
      "source": [
        "Construire un arbre Neighbor-Joining (NJ) :"
      ],
      "metadata": {
        "id": "4qoMGmrkA7lS"
      }
    },
    {
      "cell_type": "code",
      "source": [
        "from Bio import Phylo\n",
        "from Bio.Phylo.TreeConstruction import DistanceTreeConstructor, DistanceCalculator\n",
        "from Bio import AlignIO\n",
        "\n",
        "# Charger le fichier d'alignement\n",
        "alignment = AlignIO.read(\"Aligned_Sequences.aln-clustal_num\", \"clustal\")\n",
        "\n",
        "# Calculer la matrice de distances\n",
        "calculator = DistanceCalculator(\"identity\")\n",
        "distance_matrix = calculator.get_distance(alignment)\n",
        "\n",
        "# Construire l'arbre Neighbor-Joining\n",
        "constructor = DistanceTreeConstructor()\n",
        "nj_tree = constructor.nj(distance_matrix)\n",
        "\n",
        "# Afficher l'arbre\n",
        "Phylo.draw(nj_tree)\n",
        "\n",
        "# Enregistrer l'arbre dans un fichier\n",
        "Phylo.write(nj_tree, \"NJ_tree.xml\", \"phyloxml\")\n",
        "print(\"L'arbre NJ a été sauvegardé sous le nom 'NJ_tree.xml'\")\n"
      ],
      "metadata": {
        "colab": {
          "base_uri": "https://localhost:8080/",
          "height": 466
        },
        "id": "kGx2SRYWA8JX",
        "outputId": "6c579adb-c21a-431c-ad42-c388da8be0bb"
      },
      "execution_count": 4,
      "outputs": [
        {
          "output_type": "display_data",
          "data": {
            "text/plain": [
              "<Figure size 640x480 with 1 Axes>"
            ],
            "image/png": "[encoded data removed]"
          },
          "metadata": {}
        },
        {
          "output_type": "stream",
          "name": "stdout",
          "text": [
            "L'arbre NJ a été sauvegardé sous le nom 'NJ_tree.xml'\n"
          ]
        }
      ]
    },
    {
      "cell_type": "markdown",
      "source": [
        "Construire un Arbre Maximum Likelihood (ML):"
      ],
      "metadata": {
        "id": "GL9B4_-iGA4L"
      }
    },
    {
      "cell_type": "markdown",
      "source": [
        "Installer PhyML:"
      ],
      "metadata": {
        "id": "LOLKl_U9GRS5"
      }
    },
    {
      "cell_type": "code",
      "source": [
        "!apt-get install -y phyml"
      ],
      "metadata": {
        "colab": {
          "base_uri": "https://localhost:8080/"
        },
        "id": "YCJl8Qn9GDYH",
        "outputId": "19e4331d-3e1b-4dd8-8777-f16c245af6d6"
      },
      "execution_count": 5,
      "outputs": [
        {
          "output_type": "stream",
          "name": "stdout",
          "text": [
            "Reading package lists... Done\n",
            "Building dependency tree... Done\n",
            "Reading state information... Done\n",
            "The following NEW packages will be installed:\n",
            "  phyml\n",
            "0 upgraded, 1 newly installed, 0 to remove and 49 not upgraded.\n",
            "Need to get 971 kB of archives.\n",
            "After this operation, 3,122 kB of additional disk space will be used.\n",
            "Get:1 http://archive.ubuntu.com/ubuntu jammy/universe amd64 phyml amd64 3:3.3.20211231-1 [971 kB]\n",
            "Fetched 971 kB in 0s (3,314 kB/s)\n",
            "Selecting previously unselected package phyml.\n",
            "(Reading database ... 123629 files and directories currently installed.)\n",
            "Preparing to unpack .../phyml_3%3a3.3.20211231-1_amd64.deb ...\n",
            "Unpacking phyml (3:3.3.20211231-1) ...\n",
            "Setting up phyml (3:3.3.20211231-1) ...\n",
            "Processing triggers for man-db (2.10.2-1) ...\n"
          ]
        }
      ]
    },
    {
      "cell_type": "code",
      "source": [
        "!phyml --version"
      ],
      "metadata": {
        "colab": {
          "base_uri": "https://localhost:8080/"
        },
        "id": "UaQwiCUTJNAn",
        "outputId": "dff2b84f-70ed-4761-f5ba-9b4b45ec1057"
      },
      "execution_count": 6,
      "outputs": [
        {
          "output_type": "stream",
          "name": "stdout",
          "text": [
            "\n",
            ". This is PhyML version 3.3.3:3.3.20211231-1.\n",
            "\n"
          ]
        }
      ]
    },
    {
      "cell_type": "markdown",
      "source": [
        "Préparation de fichier d'alignement:"
      ],
      "metadata": {
        "id": "bsLmHJhoJTHw"
      }
    },
    {
      "cell_type": "code",
      "source": [
        "from Bio import AlignIO\n",
        "\n",
        "# Charger le fichier d'alignement\n",
        "alignment = AlignIO.read(\"Aligned_Sequences.aln-clustal_num\", \"clustal\")\n",
        "\n",
        "# Afficher les identifiants et longueurs des séquences pour vérifier le fichier\n",
        "for record in alignment:\n",
        "    print(f\"ID : {record.id}, Longueur : {len(record.seq)}\")"
      ],
      "metadata": {
        "colab": {
          "base_uri": "https://localhost:8080/"
        },
        "id": "0TLFHFm1OAMf",
        "outputId": "ff0366c7-2af4-44eb-9ae5-8c9b379fb8cd"
      },
      "execution_count": 7,
      "outputs": [
        {
          "output_type": "stream",
          "name": "stdout",
          "text": [
            "ID : Seq1, Longueur : 1577\n",
            "ID : Seq2, Longueur : 1577\n",
            "ID : Seq3, Longueur : 1577\n"
          ]
        }
      ]
    },
    {
      "cell_type": "code",
      "source": [
        "from Bio import AlignIO\n",
        "from Bio.Align import MultipleSeqAlignment\n",
        "from Bio.SeqRecord import SeqRecord\n",
        "\n",
        "# Charger le fichier d'alignement Clustal\n",
        "alignment = AlignIO.read(\"Aligned_Sequences.aln-clustal_num\", \"clustal\")\n",
        "\n",
        "# Renommer les séquences pour respecter le format PHYLIP\n",
        "new_records = []\n",
        "for i, record in enumerate(alignment):\n",
        "    record.id = f\"Seq{i+1}\"  # Noms uniques comme Seq1, Seq2\n",
        "    record.description = \"\"  # Supprimer les descriptions\n",
        "    new_records.append(record)\n",
        "\n",
        "# Créer un nouvel alignement avec des identifiants mis à jour\n",
        "new_alignment = MultipleSeqAlignment(new_records)\n",
        "\n",
        "# Sauvegarder l'alignement au format PHYLIP\n",
        "AlignIO.write(new_alignment, \"Aligned_Sequences.phy\", \"phylip\")\n",
        "print(\"Fichier converti avec succès au format PHYLIP.\")"
      ],
      "metadata": {
        "colab": {
          "base_uri": "https://localhost:8080/"
        },
        "id": "vzWAcYE7PhG6",
        "outputId": "0e1261db-7c69-49d8-b989-9d7a950aef75"
      },
      "execution_count": 8,
      "outputs": [
        {
          "output_type": "stream",
          "name": "stdout",
          "text": [
            "Fichier converti avec succès au format PHYLIP.\n"
          ]
        }
      ]
    },
    {
      "cell_type": "markdown",
      "source": [
        "**Exécuter PhyML:**"
      ],
      "metadata": {
        "id": "wYF_I5rpQ3IH"
      }
    },
    {
      "cell_type": "code",
      "source": [
        "!phyml -i Aligned_Sequences.phy -d nt -m GTR --bootstrap 100"
      ],
      "metadata": {
        "colab": {
          "base_uri": "https://localhost:8080/"
        },
        "id": "LtTc-iJVQ7X5",
        "outputId": "8b16b211-38ee-4755-e02b-5011f7d86beb"
      },
      "execution_count": 9,
      "outputs": [
        {
          "output_type": "stream",
          "name": "stdout",
          "text": [
            "\n",
            "\n",
            ". Command line: /usr/lib/phyml/bin/phyml -i Aligned_Sequences.phy -d nt -m GTR --bootstrap 100 \n",
            "\n",
            "\n",
            "\n",
            "\n",
            "\n",
            "  ////////////////////////////////////.\\\\\\\\\\\\\\\\\\\\\\\\\\\\\\\\\\\\\\\\\\\\\\\\\\\\\\\\\\\\\\\\\\\\\\\\\\\\\\\\\\\\\n",
            "  \\\\\\\\\\\\\\\\\\\\\\\\\\\\\\\\\\\\\\\\\\\\\\\\\\\\\\\\\\\\\\\\\\\\\\\\.//////////////////////////////////////////\n",
            "\n",
            "        . Sequence filename:\t\t\t\t Aligned_Sequences.phy\n",
            "        . Data type:\t\t\t\t\t dna\n",
            "        . Alphabet size:\t\t\t\t 4\n",
            "        . Sequence format:\t\t\t\t interleaved\n",
            "        . Number of data sets:\t\t\t\t 1\n",
            "        . Nb of bootstrapped data sets:\t\t\t 100\n",
            "        . Compute approximate likelihood ratio test:\t no\n",
            "        . Model name:\t\t\t\t\t GTR\n",
            "        . Proportion of invariable sites:\t\t 0.000000\n",
            "        . RAS model:\t\t\t\t\t discrete Gamma\n",
            "        . Number of subst. rate catgs:\t\t\t 4\n",
            "        . Gamma distribution parameter:\t\t\t estimated\n",
            "        . 'Middle' of each rate class:\t\t\t mean\n",
            "        . Nucleotide equilibrium frequencies:\t\t empirical\n",
            "        . Optimise tree topology:\t\t\t yes\n",
            "        . Starting tree:\t\t\t\t BioNJ\n",
            "        . Add random input tree:\t\t\t no\n",
            "        . Optimise branch lengths:\t\t\t yes\n",
            "        . Minimum length of an edge:\t\t\t 1e-08\n",
            "        . Optimise substitution model parameters:\t yes\n",
            "        . Run ID:\t\t\t\t\t none\n",
            "        . Random seed:\t\t\t\t\t 1732153974\n",
            "        . Subtree patterns aliasing:\t\t\t no\n",
            "        . Version:\t\t\t\t\t 3.3.3:3.3.20211231-1\n",
            "        . Byte alignment:\t\t\t\t 1\n",
            "        . AVX enabled:\t\t\t\t\t no\n",
            "        . SSE enabled:\t\t\t\t\t no\n",
            "\n",
            "  ////////////////////////////////////.\\\\\\\\\\\\\\\\\\\\\\\\\\\\\\\\\\\\\\\\\\\\\\\\\\\\\\\\\\\\\\\\\\\\\\\\\\\\\\\\\\\\\n",
            "  \\\\\\\\\\\\\\\\\\\\\\\\\\\\\\\\\\\\\\\\\\\\\\\\\\\\\\\\\\\\\\\\\\\\\\\\.//////////////////////////////////////////\n",
            "\n",
            "\n",
            "\n",
            ". 106 patterns found (out of a total of 1577 sites). \n",
            "\n",
            ". 777 sites without polymorphism (49.27%).\n",
            "\n",
            "\n",
            ". Computing pairwise distances...\n",
            "\n",
            ". Building BioNJ tree...\n",
            "\n",
            ". Score of initial tree: -4400.90\n",
            "\n",
            ". Starting first round of SPRs...\n",
            "\n",
            "\t       0s |   1 | lnL=     -4330.3 | depth=    0/   40 | improvements=   0 | delta_lnL=    0.0/ 1000.0  \n",
            "\n",
            ". Second round of optimization...\n",
            "\n",
            "\t       0s |   2 | lnL=     -4328.4 | depth=    0/   36 | improvements=   0 | delta_lnL=    0.0/ 1000.0  \n",
            "\n",
            ". Third round of optimization...\n",
            "\n",
            "\t       0s |   3 | lnL=     -4327.3 | depth=    0/   20 | improvements=   0 | delta_lnL=    0.0/ 1000.0 | triple moves=   5  \n",
            "\n",
            ". Final optimisation steps...\n",
            "\n",
            "\n",
            ". Log likelihood of the current tree: -4326.229909094759932486340.\n",
            "\n",
            ". Launch bootstrap analysis on the most likely tree...\n",
            "\n",
            ". Non parametric bootstrap analysis \n",
            "\n",
            "  [....................]   20/ 100\n",
            "  [....................]   40/ 100\n",
            "  [....................]   60/ 100\n",
            "  [....................]   80/ 100\n",
            "  [....................]  100/ 100\n",
            "  \n",
            "\n",
            ". Completed the bootstrap analysis successfully.\n",
            "\n",
            ". Printing the most likely tree in file 'Aligned_Sequences.phy_phyml_tree.txt'.\n",
            "\n",
            ". Time used 0h0m5s\n",
            "\n",
            "oooooooooooooooooooooooooooooooooooooooooooooooooooooooooooooooooooooooooooooooooooooooooooooooo\n"
          ]
        }
      ]
    },
    {
      "cell_type": "markdown",
      "source": [
        "**Visualiser l'arbre** :"
      ],
      "metadata": {
        "id": "VjIGAraFey7O"
      }
    },
    {
      "cell_type": "code",
      "source": [
        "from Bio import Phylo\n",
        "\n",
        "# Charger et afficher l'arbre\n",
        "tree = Phylo.read(\"Aligned_Sequences.phy_phyml_tree.txt\", \"newick\")\n",
        "Phylo.draw(tree)\n"
      ],
      "metadata": {
        "colab": {
          "base_uri": "https://localhost:8080/",
          "height": 449
        },
        "id": "9Gkb-57afCJV",
        "outputId": "1e1da54e-c5ee-4cd0-9ef3-829f08c70962"
      },
      "execution_count": 10,
      "outputs": [
        {
          "output_type": "display_data",
          "data": {
            "text/plain": [
              "<Figure size 640x480 with 1 Axes>"
            ],
            "image/png": "[encoded data removed]"
          },
          "metadata": {}
        }
      ]
    }
  ]
}